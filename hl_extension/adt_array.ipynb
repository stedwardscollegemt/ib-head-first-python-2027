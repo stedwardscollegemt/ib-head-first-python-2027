{
 "cells": [
  {
   "cell_type": "markdown",
   "id": "97b0e679",
   "metadata": {},
   "source": [
    "### Using the built-in array in Python"
   ]
  },
  {
   "cell_type": "code",
   "execution_count": 1,
   "id": "30c0983e",
   "metadata": {},
   "outputs": [],
   "source": [
    "import array"
   ]
  },
  {
   "cell_type": "code",
   "execution_count": 2,
   "id": "2dbfe20c",
   "metadata": {},
   "outputs": [
    {
     "name": "stdout",
     "output_type": "stream",
     "text": [
      "array('i', [7, 10, 4, -2, 23, 16])\n"
     ]
    }
   ],
   "source": [
    "# Create an array of integers\n",
    "my_array = array.array('i', [7, 10, 4, -2, 23, 16])\n",
    "print(my_array)"
   ]
  },
  {
   "cell_type": "code",
   "execution_count": 9,
   "id": "74042cae",
   "metadata": {},
   "outputs": [
    {
     "name": "stdout",
     "output_type": "stream",
     "text": [
      "array('i', [7, 10, 4, -2, 23, 16, 5, 16])\n"
     ]
    }
   ],
   "source": [
    "# Let us try the append - which is the most expensive operation\n",
    "my_array.append(16)\n",
    "print(my_array)"
   ]
  },
  {
   "cell_type": "code",
   "execution_count": 10,
   "id": "1560ce00",
   "metadata": {},
   "outputs": [
    {
     "name": "stdout",
     "output_type": "stream",
     "text": [
      "2\n"
     ]
    }
   ],
   "source": [
    "count = my_array.count(16)\n",
    "print(count)"
   ]
  },
  {
   "cell_type": "code",
   "execution_count": 12,
   "id": "aad5b518",
   "metadata": {},
   "outputs": [
    {
     "name": "stdout",
     "output_type": "stream",
     "text": [
      "Yes there are duplicates!\n"
     ]
    }
   ],
   "source": [
    "# Write an algorithm that checks whether there are duplicate numbers\n",
    "for i in range(len(my_array)):\n",
    "    number = my_array[i]\n",
    "    if (my_array.count(number) > 1):\n",
    "        print(\"Yes there are duplicates!\")\n",
    "        break"
   ]
  },
  {
   "cell_type": "code",
   "execution_count": null,
   "id": "36b639a1",
   "metadata": {},
   "outputs": [
    {
     "name": "stdout",
     "output_type": "stream",
     "text": [
      "array('i', [16, 5, 16, 23, -2, 4, 10, 7])\n"
     ]
    }
   ],
   "source": [
    "# reverse the contents in my array (it permanently changes it)\n",
    "my_array.reverse()\n",
    "print(my_array)"
   ]
  }
 ],
 "metadata": {
  "kernelspec": {
   "display_name": ".venv",
   "language": "python",
   "name": "python3"
  },
  "language_info": {
   "codemirror_mode": {
    "name": "ipython",
    "version": 3
   },
   "file_extension": ".py",
   "mimetype": "text/x-python",
   "name": "python",
   "nbconvert_exporter": "python",
   "pygments_lexer": "ipython3",
   "version": "3.11.9"
  }
 },
 "nbformat": 4,
 "nbformat_minor": 5
}
