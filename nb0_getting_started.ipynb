{
 "cells": [
  {
   "cell_type": "markdown",
   "id": "4ed6c5e3",
   "metadata": {},
   "source": [
    "### Notebook 0: Getting Started\n",
    "\n",
    "This notebook gives you a quick reference for the core Python syntax before diving into hairy exercises.\n",
    "\n",
    "#### 1. Variables and Data Types\n",
    "\n",
    "We use *variables* in our programs to store data so that they can be manipulated to give us interesting results. In Python, a variable is given a label or name (identifier) and an '=' is used to assign it a value:\n",
    "\n",
    "```python\n",
    "count = 1\n",
    "```\n",
    "\n",
    "The values we assign are generally associated with a particular *type* which usually determines how we intend to manipulate the variable. In the above example, the value we assigned is a whole number (integer), and naturally we would expect the program to perform arithmetic operations on it, because that is what we generally tend to do with numerical values. In programming, we work with various types for various reasons. Normally a particular data type comes with set of rules for behaviour.\n",
    "\n",
    "```python\n",
    "# Numbers\n",
    "x = 10       # integer\n",
    "y = 3.14     # float\n",
    "\n",
    "# Strings\n",
    "name = \"Ada\"\n",
    "\n",
    "# Boolean\n",
    "flag = True\n",
    "\n",
    "# Lists\n",
    "fruits = [\"apple\", \"banana\", \"cherry\"]\n",
    "\n",
    "# Dictionaries\n",
    "ages = {\"Alice\": 14, \"Bob\": 15}\n",
    "```"
   ]
  },
  {
   "cell_type": "markdown",
   "id": "c7dcb71d",
   "metadata": {},
   "source": [
    "#### 2. Numbers and Arithmetic\n",
    "\n",
    "Numbers are one of the most common data types to work with when programming. They are just really useful. Python has integers (int) for whole numbers and floating-point numbers (float) for numbers with decimals. As one would expect, we can perform various arithmetic operations on numbers:\n",
    "\n",
    "```python\n",
    "x = 10       # integer\n",
    "y = 3.14     # float\n",
    "\n",
    "# Arithmetic operations\n",
    "sum_xy = x + y\n",
    "product_xy = x * y\n",
    "division_xy = x / 2\n",
    "remainder_xy = x % 3\n",
    "```"
   ]
  },
  {
   "cell_type": "markdown",
   "id": "c6c39ae7",
   "metadata": {},
   "source": [
    "#### 3. Boolean Values\n",
    "\n",
    "Booleans (bool) store either `True` or `False`. They are especially useful when we want our programs to make certain decisions (conditional) or control the sequencing of our program in some way (e.g., looping). It is quite rare that we assign a Boolean value as `True` or `False` outright, we normally write comparitive or logical expressions that evaluate to one of these values."
   ]
  },
  {
   "cell_type": "code",
   "execution_count": 1,
   "id": "a3e7670c",
   "metadata": {},
   "outputs": [
    {
     "name": "stdout",
     "output_type": "stream",
     "text": [
      "True\n",
      "True\n"
     ]
    }
   ],
   "source": [
    "age = 16\n",
    "is_teenager = age >= 13 and age < 20   # Evaluates to True\n",
    "print(is_teenager)\n",
    "\n",
    "passed_exam = True\n",
    "eligible_for_cert = passed_exam and age >= 16\n",
    "print(eligible_for_cert)  # True"
   ]
  },
  {
   "cell_type": "markdown",
   "id": "b5ed5711",
   "metadata": {},
   "source": [
    "#### 4. Strings\n",
    "\n",
    "We will get into strings in depth in Notebook 3 because it is a powerful data type in Python. For now, Strings are special variables that can store a sequence of characters, so they are perfect to use when we need to manipulate text in our program. They are surrounded by quotes and this is important for you to remember, however, there is no difference between a single quote or double quote. We suggest that you stick to one style.\n",
    "\n",
    "```python\n",
    "name = \"Ada Lovelace\"\n",
    "greeting = 'Hello'\n",
    "```"
   ]
  },
  {
   "cell_type": "markdown",
   "id": "2f87f6ee",
   "metadata": {},
   "source": [
    "#### 5. Lists\n",
    "\n",
    "Lists are collections of values. They allow you to store multiple items under one variable name. Lists can contain numbers, strings, or even other lists! Python has become a very popular language because it has a very powerful interface for lists. There is a lot that we can do with them. For now, we will just list a few examples that you can probably understand at a glance:"
   ]
  },
  {
   "cell_type": "code",
   "execution_count": 2,
   "id": "6546cc46",
   "metadata": {},
   "outputs": [
    {
     "name": "stdout",
     "output_type": "stream",
     "text": [
      "apple\n",
      "cherry\n",
      "['apple', 'banana', 'cherry', 'date']\n",
      "['apple', 'banana', 'cherry']\n"
     ]
    }
   ],
   "source": [
    "# Example of a list\n",
    "fruits = [\"apple\", \"banana\", \"cherry\"]\n",
    "\n",
    "# Accessing elements\n",
    "print(fruits[0])   # \"apple\"\n",
    "print(fruits[-1])  # \"cherry\"\n",
    "\n",
    "# Adding elements\n",
    "fruits.append(\"date\")\n",
    "print(fruits)\n",
    "\n",
    "# Removing elements\n",
    "fruits.pop()       # removes last element\n",
    "print(fruits)"
   ]
  },
  {
   "cell_type": "markdown",
   "id": "069229e7",
   "metadata": {},
   "source": [
    "#### 6. If Statements (Selection)\n",
    "\n",
    "If statements allow programs to make decisions based on Boolean expressions which are referred to as conditionals. Think of our main line of execution as a river that branches out into tributaries. Depending on what our variables contain, and of course what the program is trying to do, execution can take a particular path. "
   ]
  },
  {
   "cell_type": "code",
   "execution_count": 3,
   "id": "a4bd792e",
   "metadata": {},
   "outputs": [
    {
     "name": "stdout",
     "output_type": "stream",
     "text": [
      "Teenager\n"
     ]
    }
   ],
   "source": [
    "age = 16\n",
    "\n",
    "if age >= 18:\n",
    "    print(\"Adult\")\n",
    "elif age >= 13:\n",
    "    print(\"Teenager\")\n",
    "else:\n",
    "    print(\"Child\")"
   ]
  },
  {
   "cell_type": "markdown",
   "id": "93a0d915",
   "metadata": {},
   "source": [
    "#### 7. Looping\n",
    "\n",
    "Looping statements are control constructs that enable us to mark blocks of Python code that should be repeated, without explicitly repeating the instructions ourselves. Depending on what we might need, we can instruct our program to repeat a block of code a fixed number of times, or repeat a block of code while a Boolean expression (conditional) is True. You can think of a loop like a merry-go-round that keeps spinning until someone pulls the brake."
   ]
  },
  {
   "cell_type": "code",
   "execution_count": 4,
   "id": "0d8c2c81",
   "metadata": {},
   "outputs": [
    {
     "name": "stdout",
     "output_type": "stream",
     "text": [
      "This runs three times\n",
      "This runs three times\n",
      "This runs three times\n",
      "apple\n",
      "banana\n",
      "cherry\n",
      "Count is: 0\n",
      "Count is: 1\n",
      "Count is: 2\n"
     ]
    }
   ],
   "source": [
    "# For loop - fixed number of repetitions, e.g., 3\n",
    "for i in range(3):\n",
    "    print(\"This runs three times\")\n",
    "\n",
    "# For loop - iterate over a list of 3 items\n",
    "fruits = [\"apple\", \"banana\", \"cherry\"]\n",
    "for fruit in fruits:\n",
    "    print(fruit)\n",
    "\n",
    "# While loop - repeat the code as long as count is less than 3 (condition)\n",
    "count = 0\n",
    "while count < 3:\n",
    "    print(\"Count is:\", count)\n",
    "    count += 1"
   ]
  },
  {
   "cell_type": "markdown",
   "id": "ad0df2c6",
   "metadata": {},
   "source": [
    "#### 8. Functions\n",
    "\n",
    "Functions are simply sub-programs that we *define* by giving a block of Python code a particular name, which usually hints very well at what the sub-program does. A sub-program is not much different to a program, so it can accept variables to manipulate and it can give back (return) a result. Conceptually, they are no different to the mathematical functions we use on our scientific calculator.\n",
    "\n",
    "Python is shipped with numerous **built-in functions** that we can use right away, which enables us to create interesting programs quickly. For example, `len(\"hello\")` tells us how many characters are in the word *hello*.\n",
    "\n",
    "When programming, we tend to organise our programs into sub-programs so that our programs are easy to understand and easy to test. \n",
    "\n",
    "Functions become especially powerful in event-driven programming, where execution is not always linear. Many real-world applications fit into this paradigm, for example, a Graphical User Interface (GUI) program that responds to user clicks. Each *click event* can be hooked to a specific function that does the something, whether that’s opening a file, drawing a shape, or saving progress.\n",
    "\n",
    "```python\n",
    "def display_dialog_message(message):\n",
    "    # code that does something awesome with the message\n",
    "\n",
    "def on_mouse_down(pos):\n",
    "    message = \"We clicked the mouse on this position: \" + str(pos)\n",
    "    display_dialog_message(message)\n",
    "```\n",
    "\n",
    "And yes, I know what you are thinking: functions can call other functions, and functions can call themselves (recursion), but... be careful not to get too carried away."
   ]
  },
  {
   "cell_type": "code",
   "execution_count": null,
   "id": "ff041103",
   "metadata": {},
   "outputs": [
    {
     "name": "stdout",
     "output_type": "stream",
     "text": [
      "50.26544\n"
     ]
    }
   ],
   "source": [
    "pi = 3.14159\n",
    "\n",
    "def area_of_a_circle(radius):\n",
    "    return pi * radius * radius\n",
    "\n",
    "# Call the function\n",
    "print(area_of_a_circle(4)) # print is a built-in function in Python that outputs to the console"
   ]
  },
  {
   "cell_type": "code",
   "execution_count": 6,
   "id": "681e8d37",
   "metadata": {},
   "outputs": [
    {
     "name": "stdout",
     "output_type": "stream",
     "text": [
      "5\n"
     ]
    }
   ],
   "source": [
    "print(len(\"hello\")) # print and len are built-in functions in Python"
   ]
  },
  {
   "cell_type": "markdown",
   "id": "87d8dbb3",
   "metadata": {},
   "source": [
    "#### First Task: Build a circle calculator\n",
    "\n",
    "Now it’s your turn to combine what we’ve covered in this cheat sheet. Your task is to build a small program that:\n",
    "\n",
    "- Have a variable that stores a radius and the value of pi.\n",
    "- Write functions that calculates the area and the circumference of the circle.\n",
    "- Call your functions, if the radius is greater than 0, and print out the results.\n"
   ]
  },
  {
   "cell_type": "code",
   "execution_count": null,
   "id": "2602265a",
   "metadata": {},
   "outputs": [],
   "source": [
    "# TODO: Adapt the code in this notebook to write your program"
   ]
  },
  {
   "cell_type": "markdown",
   "id": "c8142943",
   "metadata": {},
   "source": [
    "#### 9. Input and Output\n",
    "\n",
    "In most programs, we need a way to communicate with the user - to get data in (input) and to display results out (output).\n",
    "\n",
    "Output in Python is done with the `print()` function as we hinted in the previous sections.\n",
    "\n",
    "Input is done with the `input()` function, which *always* reads what the user types as a String.\n",
    "\n",
    "```python\n",
    "# Output\n",
    "print(\"Welcome to the circle calculator!\")\n",
    "\n",
    "# Input\n",
    "radius_str_in = input(\"Enter a radius: \")\n",
    "print(\"You typed:\", radius_str_in)\n",
    "```\n",
    "\n",
    "Since `input()` always gives back a String, we often may need to convert it into another type for manipulation:\n",
    "\n",
    "```python\n",
    "\n",
    "radius_str_in = input(\"Enter a radius: \")\n",
    "radius_float = float(radius_str_in)\n",
    "radius_doubled = radius_float * 2\n",
    "print(\"Radius doubled:\", radius_doubled)\n",
    "\n",
    "```\n",
    "\n",
    "We have used a lot of variables to break it down for you step by step, however, as you gain some comfort, it is typical Python fashion to cascade functions and weave in simple expressions as function arguments:"
   ]
  },
  {
   "cell_type": "code",
   "execution_count": 8,
   "id": "993d2b4a",
   "metadata": {},
   "outputs": [
    {
     "name": "stdout",
     "output_type": "stream",
     "text": [
      "Radius doubled: 24.0\n"
     ]
    }
   ],
   "source": [
    "radius_in = float(input(\"Enter radius:\"))\n",
    "print(\"Radius doubled:\", radius_in * 2)"
   ]
  },
  {
   "cell_type": "markdown",
   "id": "b95d796f",
   "metadata": {},
   "source": []
  },
  {
   "cell_type": "markdown",
   "id": "451f6924",
   "metadata": {},
   "source": [
    "#### Challenge - Amend your circle calculator\n",
    "\n",
    "Make adjustments to your calculator so that:\n",
    "\n",
    "- It accepts the radius as user input.\n",
    "- It keeps making calculations for different radii until the user chooses to exit the program (for example, by entering -1).\n",
    "\n",
    "You should reuse your existing functions for area and circumference from the previous task. However, the control flow of your program should change."
   ]
  },
  {
   "cell_type": "code",
   "execution_count": null,
   "id": "d4bb3b39",
   "metadata": {},
   "outputs": [],
   "source": [
    "# TODO: Adapt the code in this notebook to write your program"
   ]
  }
 ],
 "metadata": {
  "kernelspec": {
   "display_name": ".venv",
   "language": "python",
   "name": "python3"
  },
  "language_info": {
   "codemirror_mode": {
    "name": "ipython",
    "version": 3
   },
   "file_extension": ".py",
   "mimetype": "text/x-python",
   "name": "python",
   "nbconvert_exporter": "python",
   "pygments_lexer": "ipython3",
   "version": "3.11.9"
  }
 },
 "nbformat": 4,
 "nbformat_minor": 5
}
