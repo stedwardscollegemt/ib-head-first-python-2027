{
 "cells": [
  {
   "cell_type": "markdown",
   "id": "2cb7d1bc",
   "metadata": {},
   "source": [
    "### Notebook 1: Sequential Programs – Drawing Cards\n",
    "\n",
    "**IB Computer Science Learning Outcome:** \n",
    "B2.3.1 – Construct programs that implement the correct sequence of code instructions to meet program objectives.\n",
    "\n",
    "**Reference:** Head First Python (3rd Edition), Chapter 0 (pp. 5–16)\n",
    "\n",
    "---\n",
    "\n",
    "#### Objectives\n",
    "- Understand how sequential code execution works in Python.\n",
    "- Practice reordering mixed-up code cells into a working program.\n",
    "- Use `random.choice()` and `random.sample()` from Python’s standard library.\n",
    "- Adapt an existing program for a new use case (UNO deck).\n",
    "\n",
    "\n",
    "#### Introduction\n",
    "In programming, **sequence** means the order in which instructions are executed.\n",
    "Changing the sequence can completely change the behaviour (or break) a program.\n",
    "\n",
    "We’ll start with a small program that:\n",
    "1. Creates a deck of cards.\n",
    "2. Picks a random card.\n",
    "3. Displays it to the user.\n",
    "\n",
    "Then we’ll adapt it to draw multiple cards from a UNO deck.\n",
    "\n",
    "#### Mixed-up Code Activity – Random Card Program\n",
    "\n",
    "Reorder the following cells into a correct sequence.\n",
    "\n",
    "**Instructions:**\n",
    "1. Run each cell individually and observe the errors.\n",
    "2. Rearrange the cells so the program works correctly."
   ]
  },
  {
   "cell_type": "code",
   "execution_count": null,
   "id": "f0201791",
   "metadata": {},
   "outputs": [],
   "source": [
    "# Cell A\n",
    "import random"
   ]
  },
  {
   "cell_type": "code",
   "execution_count": null,
   "id": "d6641ff7",
   "metadata": {},
   "outputs": [],
   "source": [
    "# Cell B\n",
    "print(the_card, \"of\", the_suit)"
   ]
  },
  {
   "cell_type": "code",
   "execution_count": null,
   "id": "04774f53",
   "metadata": {},
   "outputs": [],
   "source": [
    "# Cell C\n",
    "the_card = random.choice(faces + numbered)\n"
   ]
  },
  {
   "cell_type": "code",
   "execution_count": null,
   "id": "e22d8c88",
   "metadata": {},
   "outputs": [],
   "source": [
    "# Cell D\n",
    "suits = [\"Clubs\", \"Spades\", \"Hearts\", \"Diamonds\"]\n",
    "faces = [\"Jack\", \"Queen\", \"King\", \"Ace\"]\n",
    "numbered = [2, 3, 4, 5, 6, 7, 8, 9, 10]"
   ]
  },
  {
   "cell_type": "code",
   "execution_count": null,
   "id": "8aab6921",
   "metadata": {},
   "outputs": [],
   "source": [
    "# Cell F\n",
    "the_suit = random.choice(suits)"
   ]
  },
  {
   "cell_type": "markdown",
   "id": "f50bba9f",
   "metadata": {},
   "source": [
    "#### Copycat Code Activity - Draw Function\n",
    "\n",
    "**Instructions:**\n",
    "Refer to page 11 to copy over the code for the `draw()` function in the next cell."
   ]
  },
  {
   "cell_type": "code",
   "execution_count": null,
   "id": "a69d7410",
   "metadata": {},
   "outputs": [],
   "source": [
    "# TODO: Copy over the draw() carefully from page 11"
   ]
  },
  {
   "cell_type": "markdown",
   "id": "4dad1bde",
   "metadata": {},
   "source": [
    "Now you can draw multiple cards without rewriting the same code over and over again."
   ]
  },
  {
   "cell_type": "code",
   "execution_count": null,
   "id": "f9b71832",
   "metadata": {},
   "outputs": [
    {
     "ename": "",
     "evalue": "",
     "output_type": "error",
     "traceback": [
      "\u001b[1;31mRunning cells with 'Python 3.11.9' requires the ipykernel package.\n",
      "\u001b[1;31m<a href='command:jupyter.createPythonEnvAndSelectController'>Create a Python Environment</a> with the required packages.\n",
      "\u001b[1;31mOr install 'ipykernel' using the command: 'c:/Users/erikacamilleri/AppData/Local/Microsoft/WindowsApps/python3.11.exe -m pip install ipykernel -U --user --force-reinstall'"
     ]
    }
   ],
   "source": [
    "print(draw())\n",
    "print(draw())\n",
    "print(draw())"
   ]
  },
  {
   "cell_type": "markdown",
   "id": "41b95594",
   "metadata": {},
   "source": [
    "#### Test Drive Activity - The For Loop\n",
    "\n",
    "Take this fancy code snippet for a spin. What do you notice?"
   ]
  },
  {
   "cell_type": "code",
   "execution_count": null,
   "id": "844c4b55",
   "metadata": {},
   "outputs": [],
   "source": [
    "for _ in range(3):\n",
    "    print(draw())"
   ]
  },
  {
   "cell_type": "markdown",
   "id": "47263e46",
   "metadata": {},
   "source": [
    "#### Challenge - Draw 7 UNO Cards\n",
    "\n",
    "Write a complete program in a **single cell** that draws 7 random UNO cards. "
   ]
  },
  {
   "cell_type": "code",
   "execution_count": null,
   "id": "726aabb8",
   "metadata": {},
   "outputs": [],
   "source": [
    "import random # A library is included to provide support for randomness\n",
    "\n",
    "# TODO: Adapt the code in this notebook to write your program"
   ]
  },
  {
   "cell_type": "markdown",
   "id": "304e0ca1",
   "metadata": {},
   "source": [
    "#### Reflection\n",
    "\n",
    "**Answer the following:**\n",
    "\n",
    "1. Why does the order of code execution matter in Python?\n",
    "\n",
    "2. What would happen if you tried to pick a card before creating the deck?"
   ]
  }
 ],
 "metadata": {
  "kernelspec": {
   "display_name": ".venv",
   "language": "python",
   "name": "python3"
  },
  "language_info": {
   "name": "python",
   "version": "3.11.9"
  }
 },
 "nbformat": 4,
 "nbformat_minor": 5
}
