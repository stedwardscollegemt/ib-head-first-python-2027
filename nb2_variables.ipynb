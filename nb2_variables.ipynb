{
 "cells": [
  {
   "cell_type": "markdown",
   "id": "ec852ebd",
   "metadata": {},
   "source": [
    "#### Notebook 2: Variables in a Card Deck Program\n",
    "\n",
    "**IB Computer Science Learning Outcome:** \n",
    "B2.1.1 – Construct and trace programs using a range of global and local variables of various data types.\n",
    "\n",
    "**Reference:**\n",
    "Head First Python (3rd Edition), Chapter 0 (pp. 5–16), expanded to include variables of multiple types.\n",
    "\n",
    "---\n",
    "\n",
    "#### Objectives\n",
    "- Difference between *global* and *local* variable\n",
    "- Use *string*, *integer*, and *boolean* variables\n",
    "- Trace how values change in a progam \n",
    "\n",
    "#### Notes on Variables in Python\n",
    "\n",
    "A **variable** is a named container that stores data in memory for use in a program.\n",
    "\n",
    "Example:\n",
    "\n",
    "```python\n",
    "card = \"Ace of Spades\"\n",
    "```\n",
    "\n",
    "In the line of code above we have a data container named `card` and we are storing the value \"Ace of Spades\" inside it.\n",
    "\n",
    "Variables are created in our program so that they can be accessed for further processing. It is important to recognize *variable scope* which describes *where* in the program a variable can be used after it has been created.\n",
    "\n",
    "Consider this program:\n",
    "\n",
    "```python\n",
    "import random\n",
    "\n",
    "def draw():\n",
    "    the_suit = random.choice(suits)\n",
    "    the_card = random.choice(faces + numbered)\n",
    "    return the_card, \"of\", the_suit\n",
    "\n",
    "suits = [\"Clubs\", \"Spades\", \"Hearts\", \"Diamonds\"]\n",
    "faces = [\"Jack\", \"Queen\", \"King\", \"Ace\"]\n",
    "numbered = [2, 3, 4, 5, 6, 7, 8, 9, 10]\n",
    "deck_size = 52\n",
    "\n",
    "print(draw())\n",
    "print(draw())\n",
    "print(draw())\n",
    "```\n",
    "\n",
    "We have four variables declared **outside** of our `draw()` function: `suits`, `faces`, `numbered`, and `deck_size`. These variables have a **global scope**, meaning, they can be accessed for reading anywhere in the program, even from our function. \n",
    "\n",
    "We have two variables declared **inside** of our `draw()` function: `the_suit`and `the_card`. These variables have a **local scope**, meaning, they can be accessed only within the function. We cannot access the variable `the_suit` outside the `draw()` function.\n",
    "\n",
    "#### Common Python Data Types\n",
    "| Type     | Example                         | Description                                |\n",
    "|----------|---------------------------------|--------------------------------------------|\n",
    "| `str`    | `\"Ace of Spades\"`               | Strings - text data, enclosed in quotes    |\n",
    "| `int`    | `3`                             | Integers - whole numbers                   |\n",
    "| `float`  | `3.14`                          | Floats - real numbers                      |\n",
    "| `bool`   | `True`, `False`                 | Boolean - logical values                   |\n",
    "| `list`   | `[\"Ace\", \"King\", \"Queen\"]`      | List - ordered collection of items         |\n",
    "| `dict`   | `{\"suit\": \"Hearts\", \"value\": 2}`| Dictionary - key–value pairs               |\n"
   ]
  },
  {
   "cell_type": "markdown",
   "id": "c41a59ef",
   "metadata": {},
   "source": [
    "#### Another Card Deck Program"
   ]
  },
  {
   "cell_type": "code",
   "execution_count": 21,
   "id": "9c3a3e6a",
   "metadata": {},
   "outputs": [
    {
     "name": "stdout",
     "output_type": "stream",
     "text": [
      "Welcome to Card Draw!\n",
      "Your cards: [(4, 'of', 'Hearts'), (9, 'of', 'Diamonds'), (5, 'of', 'Clubs')]\n",
      "Winner? False\n"
     ]
    }
   ],
   "source": [
    "import random\n",
    "\n",
    "suits = [\"Clubs\", \"Spades\", \"Hearts\", \"Diamonds\"]\n",
    "faces = [\"Jack\", \"Queen\", \"King\", \"Ace\"]\n",
    "numbered = [2, 3, 4, 5, 6, 7, 8, 9, 10]\n",
    "max_cards = 3\n",
    "\n",
    "def draw_hand():\n",
    "    the_hand = []\n",
    "    for _ in range(max_cards):\n",
    "        the_suit = random.choice(suits)\n",
    "        the_card = random.choice(faces + numbered)\n",
    "        add_card = the_card , \"of\" , the_suit\n",
    "        the_hand.append(add_card)\n",
    "    is_winner = ('Ace', 'of', 'Spades') in the_hand\n",
    "    return the_hand, is_winner\n",
    "\n",
    "print(\"Welcome to Card Draw!\")\n",
    "hand, winner_flag = draw_hand()\n",
    "print(\"Your cards:\", hand)\n",
    "print(\"Winner?\", winner_flag)\n"
   ]
  },
  {
   "cell_type": "markdown",
   "id": "0720c755",
   "metadata": {},
   "source": [
    "**Answer the following:**\n",
    "\n",
    "1. Evaluate the use of *local* and *global* variables in this program."
   ]
  },
  {
   "cell_type": "markdown",
   "id": "89320f18",
   "metadata": {},
   "source": [
    "#### Trace the Program Activity\n",
    "\n",
    "Fill in a trace table that shows how the variable values have changed during program execution.\n",
    "\n",
    "| `the_hand `                          | `the_suit `         | `the_card`        | `add_card`          |`is_winner`       |\n",
    "|--------------------------------------|---------------------|-------------------|---------------------|------------------|"
   ]
  },
  {
   "cell_type": "markdown",
   "id": "aab9b73a",
   "metadata": {},
   "source": [
    "#### Challenge - Win Probability\n",
    "\n",
    "1. Change max_cards to draw 5 cards instead of 3.\n",
    "\n",
    "2. Add a float variable (e.g., win_probability) that calculates and displays the chance of drawing \"Ace of Spades\"."
   ]
  },
  {
   "cell_type": "code",
   "execution_count": null,
   "id": "fb18521a",
   "metadata": {},
   "outputs": [],
   "source": [
    "# TODO: Adapt the code in this notebook to write your program"
   ]
  },
  {
   "cell_type": "markdown",
   "id": "d2b47525",
   "metadata": {},
   "source": [
    "#### Reflection\n",
    "\n",
    "**Answer the following:**\n",
    "\n",
    "1. Explain how *variable scope* affects variable visibility.\n",
    "\n",
    "2. Would the output be affected if `suits`, `faces` and `numbered` are moved inside the `draw()` function?\n",
    "\n",
    "3. Explain why one might want to keep `max_cards` as a global variable in this program."
   ]
  }
 ],
 "metadata": {
  "kernelspec": {
   "display_name": ".venv",
   "language": "python",
   "name": "python3"
  },
  "language_info": {
   "codemirror_mode": {
    "name": "ipython",
    "version": 3
   },
   "file_extension": ".py",
   "mimetype": "text/x-python",
   "name": "python",
   "nbconvert_exporter": "python",
   "pygments_lexer": "ipython3",
   "version": "3.11.9"
  }
 },
 "nbformat": 4,
 "nbformat_minor": 5
}
