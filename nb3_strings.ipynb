{
 "cells": [
  {
   "cell_type": "markdown",
   "id": "688d081a",
   "metadata": {},
   "source": [
    "#### Notebook 3: Exploring String Objects in Python\n",
    "\n",
    "**IB Computer Science Learning Outcome:** \n",
    "B2.1.2 – Construct programs that can extract and manipulate substrings\n",
    "\n",
    "**Reference:**\n",
    "Head First Python (3rd Edition), Chapter 1 (pp. 52–77)\n",
    "\n",
    "---\n",
    "\n",
    "#### Objectives:\n",
    "- Understand that strings are complex variables, or, *objects*, in Python\n",
    "- Explore useful string methods for text manipulation\n",
    "- Apply multiple assignment and function chaining\n",
    "- Perform substring extraction\n",
    "\n",
    "#### Notes on Strings and Objects in Python\n",
    "\n",
    "**Recall -** A `str`, read as *string*, is a data type that represents textual data enclosed in *\"quotation marks\"*.\n",
    "\n",
    "Example:\n",
    "```python\n",
    "my_str = \"holiday_photo_2025.jpg\"\n",
    "```\n",
    "\n",
    "Objects are *complex data types* that group data and specific behaviour enabling us to manipulate it. In Python, *everything* is an object, including `str` variables. This means that `my_str` does not only store the value we set, but, it also has *attributes* and *functions* embedded which we can use to change it in interesting ways. "
   ]
  },
  {
   "cell_type": "code",
   "execution_count": 1,
   "id": "f8e37067",
   "metadata": {},
   "outputs": [
    {
     "name": "stdout",
     "output_type": "stream",
     "text": [
      "['__add__', '__class__', '__contains__', '__delattr__', '__dir__', '__doc__', '__eq__', '__format__', '__ge__', '__getattribute__', '__getitem__', '__getnewargs__', '__getstate__', '__gt__', '__hash__', '__init__', '__init_subclass__', '__iter__', '__le__', '__len__', '__lt__', '__mod__', '__mul__', '__ne__', '__new__', '__reduce__', '__reduce_ex__', '__repr__', '__rmod__', '__rmul__', '__setattr__', '__sizeof__', '__str__', '__subclasshook__', 'capitalize', 'casefold', 'center', 'count', 'encode', 'endswith', 'expandtabs', 'find', 'format', 'format_map', 'index', 'isalnum', 'isalpha', 'isascii', 'isdecimal', 'isdigit', 'isidentifier', 'islower', 'isnumeric', 'isprintable', 'isspace', 'istitle', 'isupper', 'join', 'ljust', 'lower', 'lstrip', 'maketrans', 'partition', 'removeprefix', 'removesuffix', 'replace', 'rfind', 'rindex', 'rjust', 'rpartition', 'rsplit', 'rstrip', 'split', 'splitlines', 'startswith', 'strip', 'swapcase', 'title', 'translate', 'upper', 'zfill']\n"
     ]
    }
   ],
   "source": [
    "my_str = \"holiday_photo_2025.jpg\"\n",
    "\n",
    "\n",
    "print(dir(my_str)) # display the attributes and functions of my str object"
   ]
  },
  {
   "cell_type": "markdown",
   "id": "3b3be201",
   "metadata": {},
   "source": [
    "As you can see, there are many functions that we can apply to our string variable to manipulate it or generate variations of it.\n",
    "\n",
    "Let us try a few simple functions. You can probably guess what they do."
   ]
  },
  {
   "cell_type": "code",
   "execution_count": 2,
   "id": "55572957",
   "metadata": {},
   "outputs": [
    {
     "name": "stdout",
     "output_type": "stream",
     "text": [
      "my_str: holiday_photo_2025.jpg upper: HOLIDAY_PHOTO_2025.JPG lower: holiday_photo_2025.jpg\n"
     ]
    }
   ],
   "source": [
    "upper = my_str.upper()\n",
    "lower = my_str.lower()\n",
    "\n",
    "print(\"my_str:\", my_str, \"upper:\", upper, \"lower:\", lower)"
   ]
  },
  {
   "cell_type": "markdown",
   "id": "7a79eb1f",
   "metadata": {},
   "source": [
    "> The methods returned by the upper and lower methods are new string objects, one all UPPERCASE, while the other is all lowercase. Nothing happens to the original value, as confirmed by the output. (Head First Python pp. 57)"
   ]
  },
  {
   "cell_type": "markdown",
   "id": "4ca4cbc2",
   "metadata": {},
   "source": [
    "#### Extracting Data from a Filename\n",
    "\n",
    "Consider a long and complicated filename:\n",
    "\n",
    "```python\n",
    "filename = \"Darius-13-100m-Fly.txt\"\n",
    "```\n",
    "\n",
    "This filename has four pieces of information related to a swimmer. We have the name, age, length of swim, type of stroke all separated by a \"-\". Since we have the data stored in the program, we can simply extract the data and organise it into four variables.\n",
    "\n",
    "```python\n",
    "swim_name = \"Darius\"\n",
    "swim_age = \"13\"\n",
    "swim_length = \"100m\"\n",
    "swim_stroke = \"Fly\"\n",
    "```\n",
    "What if we don't know the name of the file at the time of writing our program? What if we want to be able to extract the data on any filename in the same format? There must be a better way. \n",
    "\n",
    "There is, of course!\n",
    "\n",
    "#### Split Function\n",
    "\n",
    "```python\n",
    "swim_data = filename.split(\"-\")\n",
    "```\n"
   ]
  },
  {
   "cell_type": "code",
   "execution_count": 2,
   "id": "eb044d2b",
   "metadata": {},
   "outputs": [
    {
     "name": "stdout",
     "output_type": "stream",
     "text": [
      "Help on built-in function split:\n",
      "\n",
      "split(sep=None, maxsplit=-1) method of builtins.str instance\n",
      "    Return a list of the substrings in the string, using sep as the separator string.\n",
      "    \n",
      "      sep\n",
      "        The separator used to split the string.\n",
      "    \n",
      "        When set to None (the default value), will split on any whitespace\n",
      "        character (including \\n \\r \\t \\f and spaces) and will discard\n",
      "        empty strings from the result.\n",
      "      maxsplit\n",
      "        Maximum number of splits.\n",
      "        -1 (the default value) means no limit.\n",
      "    \n",
      "    Splitting starts at the front of the string and works to the end.\n",
      "    \n",
      "    Note, str.split() is mainly useful for data that has been intentionally\n",
      "    delimited.  With natural text that includes punctuation, consider using\n",
      "    the regular expression module.\n",
      "\n"
     ]
    }
   ],
   "source": [
    "filename = \"Darius-13-100m-Fly.txt\"\n",
    "\n",
    "help(filename.split) # Unsure on what a function does or how to use it? Ask for help! "
   ]
  },
  {
   "cell_type": "code",
   "execution_count": 13,
   "id": "68780a16",
   "metadata": {},
   "outputs": [
    {
     "name": "stdout",
     "output_type": "stream",
     "text": [
      "['Darius', '13', '100m', 'Fly.txt']\n"
     ]
    }
   ],
   "source": [
    "swim_data = filename.split(\"-\")\n",
    "print(swim_data)"
   ]
  },
  {
   "cell_type": "markdown",
   "id": "c31a57f5",
   "metadata": {},
   "source": [
    "The `split()` function broke the string into separate words based on where \"-\" is found. We told Python to store four values in one container named `swim_data`, so it gave us a list of words. However, *multiple assignment* of variables is possible. Since we know the structure of the filename, and since we know that split will extract four pieces of data then we can do this:\n",
    "\n",
    "```python\n",
    "swim_name, swim_age, swim_length, swim_stroke = filename.split(\"-\")\n",
    "```"
   ]
  },
  {
   "cell_type": "code",
   "execution_count": 14,
   "id": "c900abd4",
   "metadata": {},
   "outputs": [
    {
     "name": "stdout",
     "output_type": "stream",
     "text": [
      "Darius 13 100m Fly.txt\n"
     ]
    }
   ],
   "source": [
    "swim_name, swim_age, swim_length, swim_stroke = filename.split(\"-\");\n",
    "print(swim_name, swim_age, swim_length, swim_stroke)"
   ]
  },
  {
   "cell_type": "markdown",
   "id": "167b6d4c",
   "metadata": {},
   "source": [
    "#### Removing Suffix\n",
    "\n",
    "At the moment, the `swim_stroke` includes the file extension \".txt\", which we do not want. What if we could perform a clean up exercise on the filename, before extracting the data? It turns out that we can."
   ]
  },
  {
   "cell_type": "code",
   "execution_count": 15,
   "id": "21723dff",
   "metadata": {},
   "outputs": [
    {
     "name": "stdout",
     "output_type": "stream",
     "text": [
      "Help on built-in function removesuffix:\n",
      "\n",
      "removesuffix(suffix, /) method of builtins.str instance\n",
      "    Return a str with the given suffix string removed if present.\n",
      "    \n",
      "    If the string ends with the suffix string and that suffix is not empty,\n",
      "    return string[:-len(suffix)]. Otherwise, return a copy of the original\n",
      "    string.\n",
      "\n"
     ]
    }
   ],
   "source": [
    "help(filename.removesuffix)"
   ]
  },
  {
   "cell_type": "code",
   "execution_count": 3,
   "id": "405678e9",
   "metadata": {},
   "outputs": [
    {
     "name": "stdout",
     "output_type": "stream",
     "text": [
      "Darius-13-100m-Fly\n"
     ]
    }
   ],
   "source": [
    "filename_without_extension = filename.removesuffix(\".txt\")\n",
    "print(filename_without_extension)"
   ]
  },
  {
   "cell_type": "markdown",
   "id": "665afa2f",
   "metadata": {},
   "source": [
    "#### Rewrite the Program Activity\n",
    "\n",
    "Rewrite the entire program that extracts the data correctly from a filename in a single cell.\n",
    "\n"
   ]
  },
  {
   "cell_type": "code",
   "execution_count": null,
   "id": "55ac7ac9",
   "metadata": {},
   "outputs": [],
   "source": [
    "# TODO: Adapt the code in this notebook to write your program"
   ]
  },
  {
   "cell_type": "markdown",
   "id": "c1d2a13a",
   "metadata": {},
   "source": [
    "#### Challenge - Music Library Parser\n",
    "\n",
    "Parse the list of music track names and display them in a neat way as though they are in your favourite music streaming program.\n",
    "\n",
    "Complete the program by making use of string functions we learned about. Remember, if we want to use another function, but we need more information, we can use `help`. "
   ]
  },
  {
   "cell_type": "code",
   "execution_count": null,
   "id": "1fd1f645",
   "metadata": {},
   "outputs": [],
   "source": [
    "my_music_tracks = [\n",
    "    \"01-Imagine-John_Lennon-1971.mp3\",\n",
    "    \"02-Hey_Jude-The_Beatles-1968.mp3\",\n",
    "    \"03-Bohemian_Rhapsody-Queen-1975.mp3\",\n",
    "    \"04-Hotel_California-Eagles-1976.mp3\",\n",
    "    \"05-Smells_Like_Teen_Spirit-Nirvana-1991.mp3\",\n",
    "    \"06-Billie_Jean-Michael_Jackson-1982.mp3\",\n",
    "    \"07-Shape_of_You-Ed_Sheeran-2017.mp3\",\n",
    "    \"08-Lose_Yourself-Eminem-2002.mp3\",\n",
    "    \"09-Rolling_in_the_Deep-Adele-2011.mp3\",\n",
    "    \"10-Despacito-Luis_Fonsi-2017.mp3\"\n",
    "]\n",
    "\n",
    "# Display the neat table header\n",
    "print(f\"{'No.':<4} {'Title':<30} {'Artist':<20} {'Year':<5}\")\n",
    "print(\"-\" * 65)\n",
    "\n",
    "# Looping through each track\n",
    "for my_music_track in my_music_tracks:\n",
    "    # TODO: Use what we have learned to make this program work\n",
    "    #       Hint: why not try replace() to remove the \"_\"?\n",
    "\n",
    "    # Display the extracted data into a neat table row\n",
    "    print(f\"{number:<4} {title:<30} {artist:<20} {year:<5}\")"
   ]
  },
  {
   "cell_type": "markdown",
   "id": "4d16cd20",
   "metadata": {},
   "source": [
    "#### Note on Substrings and Slicing in Python\n",
    "\n",
    "A **substring** is simply a smaller string contained inside another string.\n",
    "Python gives you two main ways to work with substrings:\n",
    "\n",
    "1. String methods like `split()`, `replace()`, `removeprefix()`, `removesuffix()`. This is what we have used so far.\n",
    "\n",
    "2. Slicing syntax:\n",
    "\n",
    "```python\n",
    "my_string[start:end]\n",
    "```\n",
    "- start: index of first character, this is always zero\n",
    "- end: index just after the last character you want (not included)\n",
    "\n",
    "Negative indices count from the end.\n",
    "\n",
    "We can understand this better if we look at a concrete example."
   ]
  },
  {
   "cell_type": "code",
   "execution_count": 16,
   "id": "5cbbf1ad",
   "metadata": {},
   "outputs": [
    {
     "name": "stdout",
     "output_type": "stream",
     "text": [
      "PYT\n",
      "PYTH\n",
      "THON\n",
      "HON\n",
      "PTO\n"
     ]
    }
   ],
   "source": [
    "word = \"PYTHON\"\n",
    "\n",
    "print(word[0:3])    # 'PYT'   (characters 0, 1, 2)\n",
    "print(word[:4])     # 'PYTH'  (start at beginning)\n",
    "print(word[2:])     # 'THON'  (from index 2 to end)\n",
    "print(word[-3:])    # 'HON'   (last 3 characters)\n",
    "print(word[::2])    # 'PTO'   (every 2nd character)"
   ]
  },
  {
   "cell_type": "markdown",
   "id": "2655dfeb",
   "metadata": {},
   "source": [
    "#### Coding Exercises Activity\n",
    "\n",
    "Complete the following coding exercises to work in some practice.\n",
    "\n",
    "**Exercise 1 - Last Name Extractor**\n",
    "\n",
    "Write a program that stores your full name in a variable and uses slicing to extract your surname."
   ]
  },
  {
   "cell_type": "code",
   "execution_count": null,
   "id": "b2f7f991",
   "metadata": {},
   "outputs": [],
   "source": [
    "# TODO: Write code for exercise 1"
   ]
  },
  {
   "cell_type": "markdown",
   "id": "18a381f5",
   "metadata": {},
   "source": [
    "**Exercise 2 - File Extension Grabber**\n",
    "\n",
    "Write a program that extracts the file extension from a file name stored in a string variable."
   ]
  },
  {
   "cell_type": "code",
   "execution_count": null,
   "id": "5eaf7b59",
   "metadata": {},
   "outputs": [],
   "source": [
    "# TODO: Write code for exercise 2"
   ]
  },
  {
   "cell_type": "markdown",
   "id": "05e1aef9",
   "metadata": {},
   "source": [
    "**Exercise 3 - Date Parser**\n",
    "\n",
    "Write a program that extracts the day, month and year of a string date in this format: `YYYYMMDD`."
   ]
  },
  {
   "cell_type": "code",
   "execution_count": null,
   "id": "2959aa67",
   "metadata": {},
   "outputs": [],
   "source": [
    "# TODO: Write code for exercise 3"
   ]
  }
 ],
 "metadata": {
  "kernelspec": {
   "display_name": ".venv",
   "language": "python",
   "name": "python3"
  },
  "language_info": {
   "codemirror_mode": {
    "name": "ipython",
    "version": 3
   },
   "file_extension": ".py",
   "mimetype": "text/x-python",
   "name": "python",
   "nbconvert_exporter": "python",
   "pygments_lexer": "ipython3",
   "version": "3.11.9"
  }
 },
 "nbformat": 4,
 "nbformat_minor": 5
}
