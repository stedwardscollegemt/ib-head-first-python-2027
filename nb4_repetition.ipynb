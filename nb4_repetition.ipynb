{
 "cells": [
  {
   "cell_type": "markdown",
   "id": "d0e0cb5b",
   "metadata": {},
   "source": [
    "#### Notebook 4: Loops in Action\n",
    "\n",
    "**IB Computer Science Learning Outcome:** \n",
    "- B2.3.3 Construct programs that utilize looping structures to perform repeated actions\n",
    "- B2.1.4 Construct and use common debugging techniques.\n",
    "\n",
    "**Reference:**\n",
    "Head First Python (3rd Edition), Chapter 2 (pp. 84–106)\n",
    "\n",
    "---\n",
    "\n",
    "#### Objectives:\n",
    "- Identify situations where repetition is required in a program.\n",
    "- Construct for loops to iterate over sequences such as lists.\n",
    "- Construct while loops to repeat actions until a condition is met.\n",
    "- Debug common loop errors: off-by-one, infinite loops and wrong condition.\n",
    "\n",
    "#### Notes on For Loops and While Loops in Python\n",
    "\n",
    "**For Loop**\n",
    "\n",
    "There are a few ways of creating `for` loops in Python. \n",
    "\n",
    "The easiest way is to write a `for` loop that repeats a block of code for each item `in` a sequence that can come from a `list`, `str`, or `file`, to name a few.\n",
    "\n",
    "Below is an example of looping through a `list` of `\"fruit\"`.\n",
    "\n",
    "```python\n",
    "fruit_seq = [\"apple\", \"banana\", \"cherry\"]\n",
    "for fruit_item in fruit_seq:\n",
    "    print(fruit_item)\n",
    "```\n",
    "**For Loop In `range()`**\n",
    "\n",
    "Another common way of writing a `for` loop makes use of the `range()` function which generates a sequence of numbers. This is useful when you need to repeat an action a *specific number* of times.\n",
    "\n",
    "```python\n",
    "start, stop, step = 0, 5, 1\n",
    "for counter in range(start, stop, step):\n",
    "    print(counter)\n",
    "```\n",
    "\n",
    "The variables `start` and `step` are technically *optional*, meaning, you do not have to specify them in your program. By default, Python will assume that you need to `start` counting from zero and increment by one `step`.\n",
    "\n",
    "Do you remember this from `nb1_sequential_programs.ipynb`?\n",
    "\n",
    "```python\n",
    "for _ in range(3):\n",
    "    print(draw())\n",
    "```\n",
    "\n",
    "**While Loops in Python**\n",
    "\n",
    "A `while` loop repeats a block of code as long as a *test condition* is `True`.\n",
    "\n",
    "```python\n",
    "my_age = 34\n",
    "while my_age > 18:\n",
    "    print(\"Ugh! I am so old.\")\n",
    "    my_age = my_age - 1\n",
    "print(\"Yay! I am 18 again.\")\n",
    "```"
   ]
  },
  {
   "cell_type": "markdown",
   "id": "8deeb022",
   "metadata": {},
   "source": [
    "#### The Swim Data Files\n",
    "\n",
    "In Head First Python (Chapter 3 p. 83), the authors introduce a collection of sample data files in a folder called `swimdata` which you can find in this project. Each file contains swimming race times for a different athlete.\n",
    "\n",
    "We’re going to start by listing the names of all the files in that directory before doing anything with the data inside them. This lets us practice loops in a real-world context. \n",
    "\n",
    "First, we will show you how to get a sequence of filenames."
   ]
  },
  {
   "cell_type": "code",
   "execution_count": 5,
   "id": "b72055f2",
   "metadata": {},
   "outputs": [
    {
     "name": "stdout",
     "output_type": "stream",
     "text": [
      "['Abi-10-100m-Back.txt', 'Abi-10-100m-Breast.txt', 'Abi-10-50m-Back.txt', 'Abi-10-50m-Breast.txt', 'Abi-10-50m-Free.txt', 'Ali-12-100m-Back.txt', 'Ali-12-100m-Free.txt', 'Alison-14-100m-Breast.txt', 'Alison-14-100m-Free.txt', 'Aurora-13-50m-Free.txt', 'Bill-18-100m-Back.txt', 'Bill-18-200m-Back.txt', 'Blake-15-100m-Back.txt', 'Blake-15-100m-Fly.txt', 'Blake-15-100m-Free.txt', 'Calvin-9-50m-Back.txt', 'Calvin-9-50m-Fly.txt', 'Calvin-9-50m-Free.txt', 'Carl-15-100m-Back.txt', 'Chris-17-100m-Back.txt', 'Chris-17-100m-Breast.txt', 'Darius-13-100m-Back.txt', 'Darius-13-100m-Breast.txt', 'Darius-13-100m-Fly.txt', 'Darius-13-200m-IM.txt', 'Dave-17-100m-Free.txt', 'Dave-17-200m-Back.txt', 'Elba-14-100m-Free.txt', 'Emma-13-100m-Breast.txt', 'Emma-13-100m-Free.txt', 'Erika-15-100m-Breast.txt', 'Erika-15-100m-Free.txt', 'Erika-15-200m-Breast.txt', 'Hannah-13-100m-Back.txt', 'Hannah-13-100m-Free.txt', 'Katie-9-100m-Back.txt', 'Katie-9-100m-Breast.txt', 'Katie-9-100m-Free.txt', 'Katie-9-50m-Back.txt', 'Katie-9-50m-Breast.txt', 'Katie-9-50m-Fly.txt', 'Katie-9-50m-Free.txt', 'Lizzie-14-100m-Back.txt', 'Lizzie-14-100m-Free.txt', 'Maria-9-50m-Free.txt', 'Mike-15-100m-Back.txt', 'Mike-15-100m-Fly.txt', 'Mike-15-100m-Free.txt', 'Mike-15-200m-Free.txt', 'Mike-15-200m-IM.txt', 'Owen-15-100m-Free.txt', 'Ruth-13-100m-Back.txt', 'Ruth-13-100m-Free.txt', 'Ruth-13-200m-Back.txt', 'Ruth-13-200m-Free.txt', 'Ruth-13-400m-Free.txt', 'Tasmin-15-100m-Back.txt', 'Tasmin-15-100m-Breast.txt', 'Tasmin-15-100m-Free.txt', 'Tasmin-15-200m-Breast.txt']\n"
     ]
    }
   ],
   "source": [
    "import os\n",
    "\n",
    "swimdata = os.listdir(\"swimdata\")\n",
    "\n",
    "swimdata.pop(0)\n",
    "\n",
    "print(swimdata)"
   ]
  },
  {
   "cell_type": "markdown",
   "id": "470821fa",
   "metadata": {},
   "source": [
    "#### Activity - Extract Data Multiple Files\n",
    "\n",
    "Write a program that parses the list of swim data files and display the athlete data in a tabular way. "
   ]
  },
  {
   "cell_type": "code",
   "execution_count": null,
   "id": "3036ecb9",
   "metadata": {},
   "outputs": [
    {
     "name": "stdout",
     "output_type": "stream",
     "text": [
      "Name     Age   Distance     Stroke      \n",
      "--------------------------------------\n"
     ]
    }
   ],
   "source": [
    "# Display the neat table header\n",
    "print(f\"{'Name':<8} {'Age':<5} {'Distance':<12} {'Stroke':<12}\")\n",
    "print(\"-\" * 38)\n",
    "\n",
    "# TODO: Use anything you have learned to complete the program\n",
    " "
   ]
  },
  {
   "cell_type": "markdown",
   "id": "a5c6e6d5",
   "metadata": {},
   "source": [
    "You probably used a **for** loop to complete the program, which is exactly what you should have done. \n",
    "\n",
    "Reason being that we had a `list` of swimmer data in a variable called `swimdata` and we wanted to perform the same action on each and every filename.\n",
    "\n",
    "But, what if we just wanted to extract data for Hannah without storing the filename in a variable?\n",
    "\n",
    "#### Test Drive - Search Hannah Records\n",
    "\n",
    "Let's take these fancy `while` loops for a spin and see what they do."
   ]
  },
  {
   "cell_type": "code",
   "execution_count": null,
   "id": "33e9e18a",
   "metadata": {},
   "outputs": [
    {
     "name": "stdout",
     "output_type": "stream",
     "text": [
      "33 Hannah-13-100m-Back.txt\n",
      "34 Hannah-13-100m-Free.txt\n"
     ]
    }
   ],
   "source": [
    "first_index = 0\n",
    "while \"Hannah\" not in swimdata[first_index]:\n",
    "    first_index = first_index + 1\n",
    "print(first_index, swimdata[first_index])\n",
    "\n",
    "last_index = first_index\n",
    "while \"Hannah\" in swimdata[last_index]:\n",
    "    last_index = last_index + 1\n",
    "print(last_index - 1, swimdata[last_index - 1])"
   ]
  },
  {
   "cell_type": "markdown",
   "id": "71a98101",
   "metadata": {},
   "source": [
    "Now that we know which files belong to Hannah, we can fall back on our `for` loop."
   ]
  },
  {
   "cell_type": "code",
   "execution_count": 16,
   "id": "6d3bfbde",
   "metadata": {},
   "outputs": [
    {
     "name": "stdout",
     "output_type": "stream",
     "text": [
      "Name     Age   Distance     Stroke      \n",
      "Hannah   13    100m         Back        \n",
      "Hannah   13    100m         Free        \n"
     ]
    }
   ],
   "source": [
    "print(f\"{'Name':<8} {'Age':<5} {'Distance':<12} {'Stroke':<12}\")\n",
    "for index in range(first_index, last_index, 1):\n",
    "    swimmer = swimdata[index].removesuffix(\".txt\").split(\"-\")\n",
    "    print(f\"{swimmer[0]:<8} {swimmer[1]:<5} {swimmer[2]:<12} {swimmer[3]:<12}\")"
   ]
  },
  {
   "cell_type": "markdown",
   "id": "453c6286",
   "metadata": {},
   "source": [
    "#### Activity - Search Any Record\n",
    "\n",
    "Write a program that neatly extracts data for any athlete, not just Hannah, in a single cell. "
   ]
  },
  {
   "cell_type": "code",
   "execution_count": null,
   "id": "084d1f14",
   "metadata": {},
   "outputs": [],
   "source": [
    "# TODO: Write code to search any record"
   ]
  },
  {
   "cell_type": "markdown",
   "id": "66823f59",
   "metadata": {},
   "source": [
    "#### Note on Debugging Loops\n",
    "\n",
    "Debugging means finding and fixing errors (bugs) in your code.\n",
    "\n",
    "Some of the most common bugs in loops are:\n",
    "\n",
    "- **Infinite loops**: the loop never stops because the condition never becomes `False`.\n",
    "- **Off-by-one errors**: your loop runs one time too many or one time too few.\n",
    "- **Wrong variable updates**: you forget to increment the counter or you update the wrong variable.\n",
    "- **Wrong index**: you refer to an index that is out of range (like `text[i+1]` or starting from 1 instead of 0).\n",
    "\n",
    "**Debugging tip**: Use `print()` inside the loop to track what your variables are doing at each iteration.\n",
    "\n",
    "Remember: a loop only stops when the condition is no longer true — so make sure your code *changes* something inside the loop!\n",
    "\n",
    "#### Debugging Loops Exercises Activity\n",
    "\n",
    "**Exercise 1:** Explain why this loop never ends, and then fix the code.\n",
    "\n",
    "```python\n",
    "count = 0\n",
    "while count < 5:\n",
    "    print(\"Count is:\", count)\n",
    "```"
   ]
  },
  {
   "cell_type": "code",
   "execution_count": 20,
   "id": "43808fa9",
   "metadata": {},
   "outputs": [],
   "source": [
    "# TODO: Fix the code"
   ]
  },
  {
   "cell_type": "markdown",
   "id": "2596ac7a",
   "metadata": {},
   "source": [
    "**Exercise 2:** This nursery rhyme sounds off. Identify the mistake and fix the code.\n",
    "\n",
    "```python\n",
    "for num in range(1, 5):\n",
    "    print(num, end=\", \")\n",
    "print(\"\")\n",
    "print(\"Once I caught a fish alive.\")\n",
    "```"
   ]
  },
  {
   "cell_type": "code",
   "execution_count": 27,
   "id": "8e9a103c",
   "metadata": {},
   "outputs": [],
   "source": [
    "# TODO: Fix the code"
   ]
  },
  {
   "cell_type": "markdown",
   "id": "c884927b",
   "metadata": {},
   "source": [
    "**Exercise 3:** This code snippet should decode a secret message, but it *crashes* instead. Can you fix it?"
   ]
  },
  {
   "cell_type": "code",
   "execution_count": 32,
   "id": "1071a86d",
   "metadata": {},
   "outputs": [
    {
     "name": "stdout",
     "output_type": "stream",
     "text": [
      "java--"
     ]
    },
    {
     "ename": "IndexError",
     "evalue": "string index out of range",
     "output_type": "error",
     "traceback": [
      "\u001b[31m---------------------------------------------------------------------------\u001b[39m",
      "\u001b[31mIndexError\u001b[39m                                Traceback (most recent call last)",
      "\u001b[36mCell\u001b[39m\u001b[36m \u001b[39m\u001b[32mIn[32]\u001b[39m\u001b[32m, line 7\u001b[39m\n\u001b[32m      4\u001b[39m encoded_message = \u001b[33m\"\u001b[39m\u001b[33mjPaYvTaH-O-N\u001b[39m\u001b[33m\"\u001b[39m\n\u001b[32m      6\u001b[39m \u001b[38;5;28;01mfor\u001b[39;00m index \u001b[38;5;129;01min\u001b[39;00m \u001b[38;5;28mrange\u001b[39m(\u001b[32m0\u001b[39m, \u001b[38;5;28mlen\u001b[39m(encoded_message) + \u001b[32m1\u001b[39m, \u001b[32m2\u001b[39m):\n\u001b[32m----> \u001b[39m\u001b[32m7\u001b[39m     \u001b[38;5;28mprint\u001b[39m(\u001b[43mencoded_message\u001b[49m\u001b[43m[\u001b[49m\u001b[43mindex\u001b[49m\u001b[43m]\u001b[49m, end=\u001b[33m\"\u001b[39m\u001b[33m\"\u001b[39m)\n",
      "\u001b[31mIndexError\u001b[39m: string index out of range"
     ]
    }
   ],
   "source": [
    "# The message is hidden in every second character of the encoded_message.\n",
    "# But this program crashes with an error.\n",
    "\n",
    "encoded_message = \"jPaYvTaH-O-N\"\n",
    "\n",
    "for index in range(0, len(encoded_message) + 1, 2):\n",
    "    print(encoded_message[index], end=\"\")\n",
    "\n"
   ]
  }
 ],
 "metadata": {
  "kernelspec": {
   "display_name": ".venv",
   "language": "python",
   "name": "python3"
  },
  "language_info": {
   "codemirror_mode": {
    "name": "ipython",
    "version": 3
   },
   "file_extension": ".py",
   "mimetype": "text/x-python",
   "name": "python",
   "nbconvert_exporter": "python",
   "pygments_lexer": "ipython3",
   "version": "3.11.9"
  }
 },
 "nbformat": 4,
 "nbformat_minor": 5
}
