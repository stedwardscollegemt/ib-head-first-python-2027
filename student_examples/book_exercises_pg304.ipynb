{
 "cells": [
  {
   "cell_type": "code",
   "execution_count": null,
   "id": "6949b645",
   "metadata": {},
   "outputs": [
    {
     "name": "stdout",
     "output_type": "stream",
     "text": [
      "The average of these numbers are:6.0\n"
     ]
    }
   ],
   "source": [
    "# @Author - Deng\n",
    "# Task 1: Average Number\n",
    "\n",
    "def Calculate_Average(first_num, second_num, third_num):   #Define average calculating function\n",
    "    sum_value = first_num + second_num + third_num         #Calculate their sum first\n",
    "    average = sum_value / 3                                #Calculate their average\n",
    "    return average                                         #Return average value\n",
    "\n",
    "\n",
    "First_Number = int(input('The first number is:'))          #Input the first value\n",
    "Second_Number = int(input('The second number is:'))        #Input the second value\n",
    "Third_Number = int(input('The third number is:'))          #Input the third value\n",
    "\n",
    "print(f'The average of these numbers are:{Calculate_Average(First_Number, Second_Number, Third_Number)}')  #Use the function and calculate these numbers input.\n",
    "\n"
   ]
  },
  {
   "cell_type": "markdown",
   "id": "23bef3a4",
   "metadata": {},
   "source": []
  },
  {
   "cell_type": "code",
   "execution_count": null,
   "id": "d63665df",
   "metadata": {},
   "outputs": [
    {
     "name": "stdout",
     "output_type": "stream",
     "text": [
      "Dear Schmidt, after 10 years you will be 444 years old.\n"
     ]
    }
   ],
   "source": [
    "#Task 2: Age after 10 years\n",
    "\n",
    "Name = input('Please enter your name:')                     #Enter user's name\n",
    "Age = int(input('Please enter your age:'))                  #Enter user's age\n",
    "\n",
    "print(f'Dear {Name}, after 10 years you will be {Age + 10} years old.')         #Output the name and calculated ages\n",
    "\n",
    "\n"
   ]
  },
  {
   "cell_type": "code",
   "execution_count": null,
   "id": "aa484e76",
   "metadata": {},
   "outputs": [
    {
     "name": "stdout",
     "output_type": "stream",
     "text": [
      "The sum of these three digits are 8.\n"
     ]
    }
   ],
   "source": [
    "#Task 3: Three digit number calculator\n",
    "\n",
    "\n",
    "\n",
    "def Three_Digit_Number_Calculator(three_dig_num):                               #Define a new function to calculate the sum\n",
    "    Temp_value = str(three_dig_num)                                             #Define a new string variable preparing for the further calculation\n",
    "\n",
    "    Temp_Sum = int(Temp_value[0:1]) + int(Temp_value[1:2]) + int(Temp_value[2:3])#Calculate the sum using the built-in Function of string\n",
    "\n",
    "    return Temp_Sum                                                              #Return sum value\n",
    "\n",
    "\n",
    "\n",
    "Three_Digit_Number = int(input('Please enter a three digit number:'))           #Input the three digit value\n",
    "\n",
    "print(f'The sum of these three digits are {Three_Digit_Number_Calculator(Three_Digit_Number)}.')#Output the sum\n",
    "\n",
    "\n"
   ]
  },
  {
   "cell_type": "code",
   "execution_count": null,
   "id": "03d9f87d",
   "metadata": {},
   "outputs": [],
   "source": []
  }
 ],
 "metadata": {
  "kernelspec": {
   "display_name": "Python 3",
   "language": "python",
   "name": "python3"
  },
  "language_info": {
   "codemirror_mode": {
    "name": "ipython",
    "version": 3
   },
   "file_extension": ".py",
   "mimetype": "text/x-python",
   "name": "python",
   "nbconvert_exporter": "python",
   "pygments_lexer": "ipython3",
   "version": "3.12.10"
  }
 },
 "nbformat": 4,
 "nbformat_minor": 5
}
